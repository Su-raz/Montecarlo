{
  "nbformat": 4,
  "nbformat_minor": 0,
  "metadata": {
    "colab": {
      "provenance": []
    },
    "kernelspec": {
      "name": "python3",
      "display_name": "Python 3"
    },
    "language_info": {
      "name": "python"
    }
  },
  "cells": [
    {
      "cell_type": "markdown",
      "source": [
        "# Used Lbarires"
      ],
      "metadata": {
        "id": "EjdAhcP94QE5"
      }
    },
    {
      "cell_type": "code",
      "execution_count": 57,
      "metadata": {
        "id": "fV2V6s664Ays"
      },
      "outputs": [],
      "source": [
        "import random\n",
        "import re\n",
        "import pandas as pd\n",
        "\n",
        "import warnings\n",
        "\n",
        "# Ignore FutureWarning\n",
        "warnings.filterwarnings(\"ignore\", category=FutureWarning)"
      ]
    },
    {
      "cell_type": "markdown",
      "source": [
        "# Loading the dataset"
      ],
      "metadata": {
        "id": "qjvbuPpN587B"
      }
    },
    {
      "cell_type": "code",
      "source": [
        "df_new  = pd.read_csv(\"/content/names.csv\")"
      ],
      "metadata": {
        "id": "aFVv42P56JtT"
      },
      "execution_count": 58,
      "outputs": []
    },
    {
      "cell_type": "code",
      "source": [
        "df_new.head(5)"
      ],
      "metadata": {
        "colab": {
          "base_uri": "https://localhost:8080/",
          "height": 206
        },
        "id": "qHfAMT8t6UIb",
        "outputId": "fda6f97d-ffa2-4b56-cd52-beaaf1f4b7e3"
      },
      "execution_count": 59,
      "outputs": [
        {
          "output_type": "execute_result",
          "data": {
            "text/plain": [
              "  Proprietary Name\n",
              "0           amyvid\n",
              "1           tauvid\n",
              "2        trulicity\n",
              "3         emgality\n",
              "4            taltz"
            ],
            "text/html": [
              "\n",
              "  <div id=\"df-cacc6caa-6154-4662-9017-39187b03f603\" class=\"colab-df-container\">\n",
              "    <div>\n",
              "<style scoped>\n",
              "    .dataframe tbody tr th:only-of-type {\n",
              "        vertical-align: middle;\n",
              "    }\n",
              "\n",
              "    .dataframe tbody tr th {\n",
              "        vertical-align: top;\n",
              "    }\n",
              "\n",
              "    .dataframe thead th {\n",
              "        text-align: right;\n",
              "    }\n",
              "</style>\n",
              "<table border=\"1\" class=\"dataframe\">\n",
              "  <thead>\n",
              "    <tr style=\"text-align: right;\">\n",
              "      <th></th>\n",
              "      <th>Proprietary Name</th>\n",
              "    </tr>\n",
              "  </thead>\n",
              "  <tbody>\n",
              "    <tr>\n",
              "      <th>0</th>\n",
              "      <td>amyvid</td>\n",
              "    </tr>\n",
              "    <tr>\n",
              "      <th>1</th>\n",
              "      <td>tauvid</td>\n",
              "    </tr>\n",
              "    <tr>\n",
              "      <th>2</th>\n",
              "      <td>trulicity</td>\n",
              "    </tr>\n",
              "    <tr>\n",
              "      <th>3</th>\n",
              "      <td>emgality</td>\n",
              "    </tr>\n",
              "    <tr>\n",
              "      <th>4</th>\n",
              "      <td>taltz</td>\n",
              "    </tr>\n",
              "  </tbody>\n",
              "</table>\n",
              "</div>\n",
              "    <div class=\"colab-df-buttons\">\n",
              "\n",
              "  <div class=\"colab-df-container\">\n",
              "    <button class=\"colab-df-convert\" onclick=\"convertToInteractive('df-cacc6caa-6154-4662-9017-39187b03f603')\"\n",
              "            title=\"Convert this dataframe to an interactive table.\"\n",
              "            style=\"display:none;\">\n",
              "\n",
              "  <svg xmlns=\"http://www.w3.org/2000/svg\" height=\"24px\" viewBox=\"0 -960 960 960\">\n",
              "    <path d=\"M120-120v-720h720v720H120Zm60-500h600v-160H180v160Zm220 220h160v-160H400v160Zm0 220h160v-160H400v160ZM180-400h160v-160H180v160Zm440 0h160v-160H620v160ZM180-180h160v-160H180v160Zm440 0h160v-160H620v160Z\"/>\n",
              "  </svg>\n",
              "    </button>\n",
              "\n",
              "  <style>\n",
              "    .colab-df-container {\n",
              "      display:flex;\n",
              "      gap: 12px;\n",
              "    }\n",
              "\n",
              "    .colab-df-convert {\n",
              "      background-color: #E8F0FE;\n",
              "      border: none;\n",
              "      border-radius: 50%;\n",
              "      cursor: pointer;\n",
              "      display: none;\n",
              "      fill: #1967D2;\n",
              "      height: 32px;\n",
              "      padding: 0 0 0 0;\n",
              "      width: 32px;\n",
              "    }\n",
              "\n",
              "    .colab-df-convert:hover {\n",
              "      background-color: #E2EBFA;\n",
              "      box-shadow: 0px 1px 2px rgba(60, 64, 67, 0.3), 0px 1px 3px 1px rgba(60, 64, 67, 0.15);\n",
              "      fill: #174EA6;\n",
              "    }\n",
              "\n",
              "    .colab-df-buttons div {\n",
              "      margin-bottom: 4px;\n",
              "    }\n",
              "\n",
              "    [theme=dark] .colab-df-convert {\n",
              "      background-color: #3B4455;\n",
              "      fill: #D2E3FC;\n",
              "    }\n",
              "\n",
              "    [theme=dark] .colab-df-convert:hover {\n",
              "      background-color: #434B5C;\n",
              "      box-shadow: 0px 1px 3px 1px rgba(0, 0, 0, 0.15);\n",
              "      filter: drop-shadow(0px 1px 2px rgba(0, 0, 0, 0.3));\n",
              "      fill: #FFFFFF;\n",
              "    }\n",
              "  </style>\n",
              "\n",
              "    <script>\n",
              "      const buttonEl =\n",
              "        document.querySelector('#df-cacc6caa-6154-4662-9017-39187b03f603 button.colab-df-convert');\n",
              "      buttonEl.style.display =\n",
              "        google.colab.kernel.accessAllowed ? 'block' : 'none';\n",
              "\n",
              "      async function convertToInteractive(key) {\n",
              "        const element = document.querySelector('#df-cacc6caa-6154-4662-9017-39187b03f603');\n",
              "        const dataTable =\n",
              "          await google.colab.kernel.invokeFunction('convertToInteractive',\n",
              "                                                    [key], {});\n",
              "        if (!dataTable) return;\n",
              "\n",
              "        const docLinkHtml = 'Like what you see? Visit the ' +\n",
              "          '<a target=\"_blank\" href=https://colab.research.google.com/notebooks/data_table.ipynb>data table notebook</a>'\n",
              "          + ' to learn more about interactive tables.';\n",
              "        element.innerHTML = '';\n",
              "        dataTable['output_type'] = 'display_data';\n",
              "        await google.colab.output.renderOutput(dataTable, element);\n",
              "        const docLink = document.createElement('div');\n",
              "        docLink.innerHTML = docLinkHtml;\n",
              "        element.appendChild(docLink);\n",
              "      }\n",
              "    </script>\n",
              "  </div>\n",
              "\n",
              "\n",
              "<div id=\"df-34a9d968-d174-4b37-8dc2-84cf96f42fe6\">\n",
              "  <button class=\"colab-df-quickchart\" onclick=\"quickchart('df-34a9d968-d174-4b37-8dc2-84cf96f42fe6')\"\n",
              "            title=\"Suggest charts\"\n",
              "            style=\"display:none;\">\n",
              "\n",
              "<svg xmlns=\"http://www.w3.org/2000/svg\" height=\"24px\"viewBox=\"0 0 24 24\"\n",
              "     width=\"24px\">\n",
              "    <g>\n",
              "        <path d=\"M19 3H5c-1.1 0-2 .9-2 2v14c0 1.1.9 2 2 2h14c1.1 0 2-.9 2-2V5c0-1.1-.9-2-2-2zM9 17H7v-7h2v7zm4 0h-2V7h2v10zm4 0h-2v-4h2v4z\"/>\n",
              "    </g>\n",
              "</svg>\n",
              "  </button>\n",
              "\n",
              "<style>\n",
              "  .colab-df-quickchart {\n",
              "      --bg-color: #E8F0FE;\n",
              "      --fill-color: #1967D2;\n",
              "      --hover-bg-color: #E2EBFA;\n",
              "      --hover-fill-color: #174EA6;\n",
              "      --disabled-fill-color: #AAA;\n",
              "      --disabled-bg-color: #DDD;\n",
              "  }\n",
              "\n",
              "  [theme=dark] .colab-df-quickchart {\n",
              "      --bg-color: #3B4455;\n",
              "      --fill-color: #D2E3FC;\n",
              "      --hover-bg-color: #434B5C;\n",
              "      --hover-fill-color: #FFFFFF;\n",
              "      --disabled-bg-color: #3B4455;\n",
              "      --disabled-fill-color: #666;\n",
              "  }\n",
              "\n",
              "  .colab-df-quickchart {\n",
              "    background-color: var(--bg-color);\n",
              "    border: none;\n",
              "    border-radius: 50%;\n",
              "    cursor: pointer;\n",
              "    display: none;\n",
              "    fill: var(--fill-color);\n",
              "    height: 32px;\n",
              "    padding: 0;\n",
              "    width: 32px;\n",
              "  }\n",
              "\n",
              "  .colab-df-quickchart:hover {\n",
              "    background-color: var(--hover-bg-color);\n",
              "    box-shadow: 0 1px 2px rgba(60, 64, 67, 0.3), 0 1px 3px 1px rgba(60, 64, 67, 0.15);\n",
              "    fill: var(--button-hover-fill-color);\n",
              "  }\n",
              "\n",
              "  .colab-df-quickchart-complete:disabled,\n",
              "  .colab-df-quickchart-complete:disabled:hover {\n",
              "    background-color: var(--disabled-bg-color);\n",
              "    fill: var(--disabled-fill-color);\n",
              "    box-shadow: none;\n",
              "  }\n",
              "\n",
              "  .colab-df-spinner {\n",
              "    border: 2px solid var(--fill-color);\n",
              "    border-color: transparent;\n",
              "    border-bottom-color: var(--fill-color);\n",
              "    animation:\n",
              "      spin 1s steps(1) infinite;\n",
              "  }\n",
              "\n",
              "  @keyframes spin {\n",
              "    0% {\n",
              "      border-color: transparent;\n",
              "      border-bottom-color: var(--fill-color);\n",
              "      border-left-color: var(--fill-color);\n",
              "    }\n",
              "    20% {\n",
              "      border-color: transparent;\n",
              "      border-left-color: var(--fill-color);\n",
              "      border-top-color: var(--fill-color);\n",
              "    }\n",
              "    30% {\n",
              "      border-color: transparent;\n",
              "      border-left-color: var(--fill-color);\n",
              "      border-top-color: var(--fill-color);\n",
              "      border-right-color: var(--fill-color);\n",
              "    }\n",
              "    40% {\n",
              "      border-color: transparent;\n",
              "      border-right-color: var(--fill-color);\n",
              "      border-top-color: var(--fill-color);\n",
              "    }\n",
              "    60% {\n",
              "      border-color: transparent;\n",
              "      border-right-color: var(--fill-color);\n",
              "    }\n",
              "    80% {\n",
              "      border-color: transparent;\n",
              "      border-right-color: var(--fill-color);\n",
              "      border-bottom-color: var(--fill-color);\n",
              "    }\n",
              "    90% {\n",
              "      border-color: transparent;\n",
              "      border-bottom-color: var(--fill-color);\n",
              "    }\n",
              "  }\n",
              "</style>\n",
              "\n",
              "  <script>\n",
              "    async function quickchart(key) {\n",
              "      const quickchartButtonEl =\n",
              "        document.querySelector('#' + key + ' button');\n",
              "      quickchartButtonEl.disabled = true;  // To prevent multiple clicks.\n",
              "      quickchartButtonEl.classList.add('colab-df-spinner');\n",
              "      try {\n",
              "        const charts = await google.colab.kernel.invokeFunction(\n",
              "            'suggestCharts', [key], {});\n",
              "      } catch (error) {\n",
              "        console.error('Error during call to suggestCharts:', error);\n",
              "      }\n",
              "      quickchartButtonEl.classList.remove('colab-df-spinner');\n",
              "      quickchartButtonEl.classList.add('colab-df-quickchart-complete');\n",
              "    }\n",
              "    (() => {\n",
              "      let quickchartButtonEl =\n",
              "        document.querySelector('#df-34a9d968-d174-4b37-8dc2-84cf96f42fe6 button');\n",
              "      quickchartButtonEl.style.display =\n",
              "        google.colab.kernel.accessAllowed ? 'block' : 'none';\n",
              "    })();\n",
              "  </script>\n",
              "</div>\n",
              "\n",
              "    </div>\n",
              "  </div>\n"
            ],
            "application/vnd.google.colaboratory.intrinsic+json": {
              "type": "dataframe",
              "variable_name": "df_new",
              "summary": "{\n  \"name\": \"df_new\",\n  \"rows\": 3403,\n  \"fields\": [\n    {\n      \"column\": \"Proprietary Name\",\n      \"properties\": {\n        \"dtype\": \"string\",\n        \"num_unique_values\": 2838,\n        \"samples\": [\n          \"reclast\",\n          \"moxidectin\",\n          \"estrogel\"\n        ],\n        \"semantic_type\": \"\",\n        \"description\": \"\"\n      }\n    }\n  ]\n}"
            }
          },
          "metadata": {},
          "execution_count": 59
        }
      ]
    },
    {
      "cell_type": "markdown",
      "source": [
        "# Preprocessing"
      ],
      "metadata": {
        "id": "Ma7QhSzt6oZ6"
      }
    },
    {
      "cell_type": "code",
      "source": [
        "# # Convert all names in 'Proprietary Name' column to lowercase\n",
        "# df_new['Proprietary Name'] = df_new['Proprietary Name'].str.lower()\n",
        "\n",
        "# Extracting the list of medicine names from the DataFrame\n",
        "medicine_names = df_new['Proprietary Name'].tolist()"
      ],
      "metadata": {
        "id": "ruHoIJ3f6niT"
      },
      "execution_count": 60,
      "outputs": []
    },
    {
      "cell_type": "markdown",
      "source": [
        "#Builder functions"
      ],
      "metadata": {
        "id": "ySFhdbq265go"
      }
    },
    {
      "cell_type": "code",
      "source": [
        "\n",
        "\n",
        "# building chain from a list of names\n",
        "def  create_markov_chain(names_list):\n",
        "    chain = {\n",
        "        '_start': {}  # the start state\n",
        "    }\n",
        "\n",
        "    for name in names_list:\n",
        "        word = name.strip().lower()  # convert to lowercase and remove white spaces\n",
        "\n",
        "        word = word + '.'  # adding the end character\n",
        "\n",
        "        # adding first character to first characters count\n",
        "        if word[0] not in chain['_start']:\n",
        "            chain['_start'][word[0]] = 1\n",
        "        else:\n",
        "            # incrementing frequency\n",
        "            chain['_start'][word[0]] += 1\n",
        "\n",
        "\n",
        "\n",
        "        for ix in range(len(word) - 1):\n",
        "            if word[ix] in chain:\n",
        "                # current letter IS in chain\n",
        "\n",
        "                if word[ix+1] not in chain[word[ix]]:\n",
        "                    # first time seeing the next character following this character.\n",
        "                    chain[word[ix]][word[ix+1]] = 1\n",
        "                else:\n",
        "                    # incrementing frequency\n",
        "                    chain[word[ix]][word[ix+1]] += 1\n",
        "\n",
        "            else:\n",
        "                # current letter IS NOT in chain\n",
        "                chain[word[ix]] = {word[ix+1]: 1}\n",
        "   #print(\"chain is\",chain)\n",
        "    return chain\n",
        "\n"
      ],
      "metadata": {
        "id": "BSo9ScdK4BmM"
      },
      "execution_count": 61,
      "outputs": []
    },
    {
      "cell_type": "code",
      "source": [
        "# true if character is a vowel\n",
        "def isVowel(char: str):\n",
        "    return char in 'aeiouy'\n",
        "\n",
        "# true if character is a consonant\n",
        "def isConson(char: str):\n",
        "    return char.isalpha() and not isVowel(char)\n"
      ],
      "metadata": {
        "id": "7GlLs__v7GMk"
      },
      "execution_count": 62,
      "outputs": []
    },
    {
      "cell_type": "code",
      "source": [
        "\n",
        "# picks a character given dict of frequencies\n",
        "def select_character(probs: dict):\n",
        "    total_next_chars = sum(probs.values())\n",
        "   #print(\"total_start_sum is\" ,total_next_chars )\n",
        "    rand = random.random() * total_next_chars\n",
        "    #print(\"random\" , rand)\n",
        "    for char, freq in probs.items():\n",
        "        rand -= freq\n",
        "        #print(\"rand = rand -freq is \" , rand)\n",
        "        if rand < 0:\n",
        "            return char\n",
        "\n",
        "    raise ValueError(\"Failed to pick a character\")\n"
      ],
      "metadata": {
        "id": "sEC591ay7Lwy"
      },
      "execution_count": 63,
      "outputs": []
    },
    {
      "cell_type": "code",
      "source": [
        "\n",
        "# picks next state given previous state and current state\n",
        "def next_char(prev: str, current: str, chain: dict):\n",
        "    #print(\"current_chain\" , chain[current])\n",
        "    if current == '.':\n",
        "        # base case of recursion\n",
        "        return ''\n",
        "    else:\n",
        "        picked_char = select_character(chain[current])\n",
        "        #print(\"picked char is\" , picked_char)\n",
        "        prevTwoVowel = isVowel(prev) and isVowel(current)\n",
        "        prevTwoConson = isConson(prev) and isConson(current)\n",
        "\n",
        "        # making sure there are no more than two consecutive consonants/vowels\n",
        "        while (prevTwoVowel and isVowel(picked_char)) or (prevTwoConson and isConson(picked_char)):\n",
        "            picked_char = select_character(chain[current])\n",
        "\n",
        "        # recursively building the string\n",
        "        return current + next_char(current, picked_char, chain)\n",
        "\n"
      ],
      "metadata": {
        "id": "IRVDzRIf7Pd0"
      },
      "execution_count": 64,
      "outputs": []
    },
    {
      "cell_type": "code",
      "source": [
        "def make_word(chain: dict):\n",
        "    first_char = select_character(chain['_start'])\n",
        "    #print(\"first_char Is\" ,first_char )\n",
        "    return next_char('', first_char, chain)\n",
        "\n"
      ],
      "metadata": {
        "id": "KmAlF3jG7TvU"
      },
      "execution_count": 65,
      "outputs": []
    },
    {
      "cell_type": "code",
      "source": [
        "# checks if word contains a zangy letter\n",
        "def is_zangy(word: str):\n",
        "    return bool(re.match(r'.*[qxzjr]', word))\n",
        "\n"
      ],
      "metadata": {
        "id": "aQMO1B2J7Wd0"
      },
      "execution_count": 66,
      "outputs": []
    },
    {
      "cell_type": "code",
      "source": [
        "# generates num names between min_length and max_length.\n",
        "\n",
        "def generate_from_names(num: int, min_length: int, max_length: int, names_list: list):\n",
        "    chain =  create_markov_chain(names_list)\n",
        "    print(chain)\n",
        "\n",
        "    print(\"***** genarates medicine Names******* \")\n",
        "    for i in range(num):\n",
        "        word = make_word(chain)\n",
        "\n",
        "        while (len(word) < min_length or len(word) > max_length) or not is_zangy(word):\n",
        "            word = make_word(chain)\n",
        "\n",
        "            # print(\"discarded word \" , word)\n",
        "\n",
        "        print(\"accepted word after satisfying all condition :=>\" , word)\n",
        "\n",
        "\n",
        "\n"
      ],
      "metadata": {
        "id": "-tJllACy7ayz"
      },
      "execution_count": 67,
      "outputs": []
    },
    {
      "cell_type": "code",
      "source": [
        "\n",
        "# Using the modified function to generate names from the list of medicine names\n",
        "generate_from_names(5, 6, 9, medicine_names)"
      ],
      "metadata": {
        "colab": {
          "base_uri": "https://localhost:8080/"
        },
        "id": "I5z2c-lX7c-q",
        "outputId": "33450e9e-8f9f-4540-fe7f-f41d0465d2cd"
      },
      "execution_count": 68,
      "outputs": [
        {
          "output_type": "stream",
          "name": "stdout",
          "text": [
            "{'_start': {'a': 310, 't': 223, 'e': 173, 'r': 134, 's': 199, 'c': 322, 'z': 102, 'o': 118, 'v': 133, 'b': 134, 'l': 166, 'h': 60, 'g': 92, 'p': 246, 'f': 135, 'n': 161, 'y': 10, 'd': 199, 'k': 58, 'i': 105, 'x': 46, 'j': 27, 'm': 188, 'u': 31, 'q': 25, 'w': 6}, 'a': {'m': 253, 'u': 12, 'l': 294, 't': 208, '.': 390, 'x': 69, 'n': 353, 'q': 14, 'r': 267, 's': 127, 'g': 44, 'z': 205, 'b': 83, 'c': 218, 'v': 77, 'a': 4, 'i': 42, 'p': 118, 'y': 27, 'f': 58, 'd': 103, 'h': 5, 'k': 26, 'j': 1, 'e': 2}, 'm': {'y': 61, 'g': 2, 'o': 87, 'b': 22, 'i': 207, 'a': 117, 'z': 6, 't': 11, 'j': 3, 'l': 10, 'u': 27, 'p': 39, '.': 151, 'r': 7, 'e': 191, 'c': 10, 'n': 8, 'm': 6, 'v': 7, 'f': 8, 'h': 1, 's': 7, 'd': 4}, 'y': {'v': 12, '.': 47, 'm': 33, 'a': 24, 'p': 11, 'r': 37, 'u': 8, 'c': 90, 'd': 35, 'e': 5, 't': 50, 's': 50, 'z': 10, 'l': 65, 'g': 8, 'n': 47, 'k': 4, 'x': 12, 'f': 4, 'q': 1, 'b': 13, 'h': 1, 'o': 18, 'i': 3, 'w': 1}, 'v': {'i': 163, 'm': 1, 'o': 66, 'e': 105, '.': 20, 'a': 165, 'y': 22, 't': 1, 'z': 2, 's': 2, 'f': 1, 'r': 7, 'u': 13, 'p': 4, 'l': 3, 'c': 1, 'b': 1}, 'i': {'d': 262, 'c': 135, 't': 171, 'a': 99, 's': 161, 'o': 72, 'e': 21, 'm': 129, '.': 79, 'v': 82, 'n': 759, 'x': 46, 'q': 25, 'r': 129, 'f': 57, 'l': 170, 'g': 60, 'p': 101, 'z': 35, 'u': 19, 'b': 55, 'k': 13, 'i': 5, 'h': 1, 'j': 2, 'y': 1}, 'd': {'.': 79, 'r': 67, 'e': 252, 'i': 159, 'a': 134, 'y': 15, 'u': 31, 'l': 3, 'm': 1, 'o': 114, 'n': 12, 'v': 2, 'j': 1, 'c': 4, 'g': 1, 'd': 3, 'h': 1, 's': 1, 'x': 1}, 't': {'a': 352, 'r': 295, 'y': 36, 'z': 4, 'e': 244, 't': 14, '.': 178, 'i': 234, 'o': 196, 'u': 28, 'h': 105, 's': 4, 'w': 2, 'l': 3, 'p': 1, 'n': 2, 'f': 1, 'm': 1}, 'u': {'v': 31, 'l': 73, 'm': 83, 'c': 33, 'i': 13, 'd': 24, 'z': 12, '.': 11, 'j': 2, 'r': 89, 'n': 27, 'a': 13, 't': 39, 'e': 34, 'b': 16, 'k': 9, 'p': 37, 's': 41, 'x': 16, 'f': 2, 'o': 28, 'g': 6}, 'r': {'u': 22, 'e': 308, 'a': 371, 'z': 15, 't': 75, 'o': 405, '.': 123, 'y': 41, 'v': 17, 'i': 368, 'b': 44, 'g': 23, 'j': 2, 'd': 27, 'h': 10, 'm': 29, 'c': 25, 'r': 12, 'l': 17, 'p': 16, 's': 15, 'k': 3, 'x': 4, 'n': 14, 'f': 9, ')': 1, 'w': 1, 'q': 3}, 'l': {'i': 269, 't': 50, 'u': 121, 'a': 232, 'o': 301, 'y': 69, '.': 323, 'c': 38, 'l': 56, 's': 12, 'e': 236, 'f': 21, 'z': 9, 'n': 5, 'v': 22, 'd': 18, 'b': 17, 'p': 19, 'm': 13, 'j': 1, 'k': 3, 'x': 2, 'q': 1, 'g': 4, 'r': 6, '1': 1}, 'c': {'i': 206, 'y': 64, 'a': 207, 'e': 138, 'l': 125, 't': 59, 'h': 43, 'o': 156, 'r': 29, '.': 68, 'u': 22, 'z': 4, 'c': 9, 'p': 1, 'd': 2, 'n': 1, 'f': 1, 'g': 1, 'k': 2}, 'e': {'m': 110, 't': 249, 'v': 90, 'r': 249, 'x': 162, 'y': 11, 'n': 377, 'f': 49, '.': 809, 'o': 34, 'l': 218, 'a': 30, 'p': 124, 'g': 37, 'c': 75, 's': 154, 'e': 23, 'd': 63, 'k': 15, 'u': 23, 'b': 19, 'z': 23, 'i': 5, 'w': 4, 'h': 2, 'j': 2, 'q': 8}, 'g': {'a': 66, 'e': 72, '.': 31, 'l': 65, 'o': 29, 'u': 5, 'y': 5, 'n': 4, 'm': 5, 'r': 34, 'i': 31, 'd': 1, 'g': 2, '0': 1, 's': 1}, 'z': {'.': 24, 'y': 28, 'e': 85, 'a': 99, 'z': 5, 'o': 155, 'i': 97, 'u': 11, 'l': 4, 't': 5, 'n': 2, 'c': 3, 'v': 1}, 'o': {'.': 141, 'l': 363, 'w': 7, 'p': 173, 'g': 46, 'r': 220, 'n': 322, 'j': 5, 'y': 3, 't': 96, 'x': 164, 'd': 60, 'm': 120, 's': 164, 'c': 97, 'z': 35, 'v': 80, 'k': 9, 'b': 52, 'f': 64, 'u': 9, 'a': 6, 'q': 6, 'i': 17, 'h': 2, 'o': 3, 'e': 2}, 's': {'t': 207, 'y': 42, '.': 95, 'i': 101, 'a': 101, 'p': 45, 'e': 130, 'o': 133, 'c': 28, 's': 41, 'f': 7, 'u': 60, 'v': 4, 'k': 11, 'm': 12, 'q': 1, 'z': 3, 'l': 8, 'n': 3, 'r': 4, 'h': 3, 'd': 3, 'b': 2, 'g': 2, 'w': 1}, 'b': {'y': 10, 'a': 88, '.': 20, 'o': 28, 'e': 76, 'r': 62, 'u': 54, 'l': 24, 'i': 91, 's': 10, 't': 2, 'v': 1}, 'x': {'.': 177, 'a': 88, 'i': 103, 'e': 48, 'o': 21, 'y': 33, 'p': 4, 'c': 3, 't': 19, 'j': 1, 'f': 1, 'r': 4, 'u': 7, 'z': 2, 'b': 2, 's': 2, 'm': 3, 'x': 6, 'g': 1, 'd': 1, 'h': 1, 'l': 3}, 'p': {'r': 294, 'e': 84, 'o': 48, 'l': 44, 'd': 2, 'i': 155, 't': 52, 'a': 116, 'h': 87, '.': 19, 'f': 1, 'u': 8, 's': 19, 'y': 13, 'c': 2, 'p': 4, 'z': 5, 'v': 1, 'n': 1}, 'n': {'t': 150, 'i': 182, '.': 544, 'u': 49, 'c': 41, 'o': 146, 'v': 15, 'd': 71, 'z': 41, 'g': 23, 'p': 10, 'e': 508, 'f': 13, 's': 33, 'a': 200, 'r': 10, 'y': 24, 'l': 14, 'n': 10, 'm': 3, 'j': 8, 'b': 4, 'h': 5, 'k': 1, '(': 1, 'x': 2, 'q': 3, '7': 1}, 'w': {'.': 7, 'a': 5, 'e': 5, 'y': 1, 'i': 4}, 'f': {'f': 5, 'i': 63, 'o': 45, 'u': 19, 'l': 94, 'e': 96, '.': 14, 'm': 1, 't': 10, 'a': 63, 'r': 11, 'p': 2, 'd': 2, 'c': 4, 'y': 7, 's': 1}, 'q': {'s': 2, 'u': 44, '.': 24, 'a': 4, 'e': 1, 'r': 1, 't': 2, 'o': 2, 'b': 2, 'n': 1, 'i': 3, 'd': 1}, 'h': {'u': 4, 'a': 54, 'y': 53, 'o': 44, 'e': 75, 'r': 28, 'i': 41, 'n': 2, 'l': 18, 'm': 1, '.': 7, 'k': 1, 'z': 1, 't': 1}, 'j': {'e': 17, 'i': 3, 'a': 18, 'u': 10, 'o': 5, 'y': 2}, 'k': {'l': 9, 'e': 33, 'a': 34, '.': 22, 'i': 19, 'o': 12, 'y': 11, 'v': 2, 'r': 3, 't': 5, 'h': 3, 'u': 2, 'k': 1}, '.': {'e': 1, 's': 1}, '(': {'r': 1}, ')': {'.': 1}, '0': {'n': 1}, '7': {'t': 1}, '1': {'9': 1}, '9': {'.': 1}}\n",
            "***** genarates medicine Names******* \n",
            "accepted word after satisfying all condition :=> syreprali\n",
            "accepted word after satisfying all condition :=> acexon\n",
            "accepted word after satisfying all condition :=> zeneco\n",
            "accepted word after satisfying all condition :=> mburaka\n",
            "accepted word after satisfying all condition :=> stylext\n"
          ]
        }
      ]
    },
    {
      "cell_type": "code",
      "source": [],
      "metadata": {
        "id": "blouFxA9kDWn"
      },
      "execution_count": 68,
      "outputs": []
    }
  ]
}